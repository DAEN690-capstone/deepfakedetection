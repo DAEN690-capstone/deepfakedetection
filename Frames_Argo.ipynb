{
 "cells": [
  {
   "cell_type": "code",
   "execution_count": 1,
   "metadata": {},
   "outputs": [],
   "source": [
    "import dlib\n",
    "\n",
    "import cv2 as cv\n",
    "import cv2\n",
    "import os\n",
    "import re\n",
    "import json\n",
    "from pylab import *\n",
    "from PIL import Image, ImageChops, ImageEnhance\n",
    "import fn\n",
    "import glob\n",
    "import pandas as pd\n",
    "import face_recognition"
   ]
  },
  {
   "cell_type": "code",
   "execution_count": 2,
   "metadata": {},
   "outputs": [],
   "source": [
    "file = glob.glob(f'/projects/jbaldo/Deepfake/dfdc_train_part_*9/*.mp4')"
   ]
  },
  {
   "cell_type": "code",
   "execution_count": 3,
   "metadata": {},
   "outputs": [
    {
     "data": {
      "text/html": [
       "<div>\n",
       "<style scoped>\n",
       "    .dataframe tbody tr th:only-of-type {\n",
       "        vertical-align: middle;\n",
       "    }\n",
       "\n",
       "    .dataframe tbody tr th {\n",
       "        vertical-align: top;\n",
       "    }\n",
       "\n",
       "    .dataframe thead th {\n",
       "        text-align: right;\n",
       "    }\n",
       "</style>\n",
       "<table border=\"1\" class=\"dataframe\">\n",
       "  <thead>\n",
       "    <tr style=\"text-align: right;\">\n",
       "      <th></th>\n",
       "      <th>label</th>\n",
       "      <th>split</th>\n",
       "      <th>original</th>\n",
       "    </tr>\n",
       "  </thead>\n",
       "  <tbody>\n",
       "    <tr>\n",
       "      <td>cveqgferbf.mp4</td>\n",
       "      <td>REAL</td>\n",
       "      <td>train</td>\n",
       "      <td>NaN</td>\n",
       "    </tr>\n",
       "    <tr>\n",
       "      <td>dskhcyjnqw.mp4</td>\n",
       "      <td>FAKE</td>\n",
       "      <td>train</td>\n",
       "      <td>mzmnjmwunq.mp4</td>\n",
       "    </tr>\n",
       "    <tr>\n",
       "      <td>bcdmnkzrqa.mp4</td>\n",
       "      <td>FAKE</td>\n",
       "      <td>train</td>\n",
       "      <td>mzmnjmwunq.mp4</td>\n",
       "    </tr>\n",
       "    <tr>\n",
       "      <td>jzrdfehytl.mp4</td>\n",
       "      <td>FAKE</td>\n",
       "      <td>train</td>\n",
       "      <td>tyaakhhemf.mp4</td>\n",
       "    </tr>\n",
       "    <tr>\n",
       "      <td>rkbautpdzv.mp4</td>\n",
       "      <td>FAKE</td>\n",
       "      <td>train</td>\n",
       "      <td>emrsqvjawa.mp4</td>\n",
       "    </tr>\n",
       "  </tbody>\n",
       "</table>\n",
       "</div>"
      ],
      "text/plain": [
       "               label  split        original\n",
       "cveqgferbf.mp4  REAL  train             NaN\n",
       "dskhcyjnqw.mp4  FAKE  train  mzmnjmwunq.mp4\n",
       "bcdmnkzrqa.mp4  FAKE  train  mzmnjmwunq.mp4\n",
       "jzrdfehytl.mp4  FAKE  train  tyaakhhemf.mp4\n",
       "rkbautpdzv.mp4  FAKE  train  emrsqvjawa.mp4"
      ]
     },
     "execution_count": 3,
     "metadata": {},
     "output_type": "execute_result"
    }
   ],
   "source": [
    "path = glob.glob('/projects/jbaldo/Deepfake/dfdc_train_part_*/metadata.json')\n",
    "dl=[]\n",
    "for i in path:\n",
    "    dl.append(pd.read_json(i).T)\n",
    "df=pd.concat(dl)\n",
    "df.head()"
   ]
  },
  {
   "cell_type": "code",
   "execution_count": 4,
   "metadata": {},
   "outputs": [
    {
     "name": "stderr",
     "output_type": "stream",
     "text": [
      "C:\\Users\\qazya\\Anaconda3\\lib\\site-packages\\ipykernel_launcher.py:3: SettingWithCopyWarning: \n",
      "A value is trying to be set on a copy of a slice from a DataFrame\n",
      "\n",
      "See the caveats in the documentation: http://pandas.pydata.org/pandas-docs/stable/user_guide/indexing.html#returning-a-view-versus-a-copy\n",
      "  This is separate from the ipykernel package so we can avoid doing imports until\n"
     ]
    },
    {
     "data": {
      "text/plain": [
       "1728"
      ]
     },
     "execution_count": 4,
     "metadata": {},
     "output_type": "execute_result"
    }
   ],
   "source": [
    "Fake=df[df['label']=='FAKE']\n",
    "Real=df[df['label']=='REAL']\n",
    "Fake.drop_duplicates(subset='original', inplace=True)\n",
    "df_clean=pd.concat([Fake,Real],axis=0)\n",
    "len(df_clean)"
   ]
  },
  {
   "cell_type": "code",
   "execution_count": 11,
   "metadata": {},
   "outputs": [],
   "source": [
    "def cap_img(file):\n",
    "    video_file = file\n",
    "    cap = cv2.VideoCapture(video_file)\n",
    "    frames = []\n",
    "    c = 0\n",
    "    timeF = 60\n",
    "    while(cap.isOpened()):\n",
    "        ret, frame = cap.read()\n",
    "        if ret==True:\n",
    "            if c%timeF == 0: \n",
    "                    frames.append(frame)\n",
    "            if cv2.waitKey(1) & 0xFF == ord('q'):\n",
    "                    break\n",
    "            c+=1\n",
    "        else:\n",
    "            break\n",
    "    cap.release()\n",
    "    return frames"
   ]
  },
  {
   "cell_type": "code",
   "execution_count": 14,
   "metadata": {},
   "outputs": [],
   "source": [
    "for f in file:\n",
    "    name=f.split('/')[-1]\n",
    "    if name in df_clean.index:\n",
    "        label = df.loc[name][\"label\"]\n",
    "        frame=cap_img(f)\n",
    "        for n,f in enumerate(frame):\n",
    "            image = cv.cvtColor(f, cv.COLOR_BGR2RGB)\n",
    "            face_locations = face_recognition.face_locations(image)\n",
    "            for num,face_location in enumerate(face_locations):\n",
    "                top, right, bottom, left = face_location\n",
    "                face_image = image[top:bottom, left:right]\n",
    "                if label == 'REAL':    \n",
    "                    cv2.imwrite(\"/projects/jbaldo/Deepfake/Images11/Real/\"+name.replace(\".mp4\",\"\")+str(n)+\".png\",cv2.resize(face_image, (128, 128)))\n",
    "                elif label =='FAKE':\n",
    "                    cv2.imwrite(\"/projects/jbaldo/Deepfake/Images11/Fake/\"+name.replace(\".mp4\",\"\")+str(n)+\".png\",cv2.resize(face_image, (128, 128)))"
   ]
  },
  {
   "cell_type": "code",
   "execution_count": null,
   "metadata": {},
   "outputs": [],
   "source": []
  }
 ],
 "metadata": {
  "kernelspec": {
   "display_name": "Python 3",
   "language": "python",
   "name": "python3"
  },
  "language_info": {
   "codemirror_mode": {
    "name": "ipython",
    "version": 3
   },
   "file_extension": ".py",
   "mimetype": "text/x-python",
   "name": "python",
   "nbconvert_exporter": "python",
   "pygments_lexer": "ipython3",
   "version": "3.7.4"
  }
 },
 "nbformat": 4,
 "nbformat_minor": 2
}
