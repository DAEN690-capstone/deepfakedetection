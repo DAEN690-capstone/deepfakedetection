{
 "cells": [
  {
   "cell_type": "code",
   "execution_count": 1,
   "metadata": {
    "colab": {},
    "colab_type": "code",
    "id": "q1WhQZzng7EW"
   },
   "outputs": [],
   "source": [
    "import os \n",
    "import tensorflow as tf\n",
    "import numpy as np\n",
    "import pandas as pd\n",
    "from tensorflow.keras.preprocessing.image import ImageDataGenerator, img_to_array, load_img\n",
    "from tensorflow.keras.utils import to_categorical"
   ]
  },
  {
   "cell_type": "markdown",
   "metadata": {
    "colab_type": "text",
    "id": "JMCj78aY63O1"
   },
   "source": [
    "# 新段落"
   ]
  },
  {
   "cell_type": "markdown",
   "metadata": {
    "colab_type": "text",
    "id": "vFCgYyXIjXhk"
   },
   "source": [
    "# 新段落"
   ]
  },
  {
   "cell_type": "code",
   "execution_count": 2,
   "metadata": {
    "colab": {},
    "colab_type": "code",
    "id": "gwAxwvebg7EZ"
   },
   "outputs": [],
   "source": [
    "from tensorflow.keras.applications import InceptionResNetV2\n",
    "from tensorflow.keras.layers import Conv2D\n",
    "from tensorflow.keras.layers import MaxPooling2D\n",
    "from tensorflow.keras.layers import Flatten\n",
    "from tensorflow.keras.layers import Dense\n",
    "from tensorflow.keras.layers import Dropout\n",
    "from tensorflow.keras.layers import InputLayer\n",
    "from tensorflow.keras.layers import GlobalAveragePooling2D\n",
    "from tensorflow.keras.models import Sequential\n",
    "from tensorflow.keras.models import Model\n",
    "from tensorflow.keras import optimizers\n",
    "from tensorflow.keras.callbacks import ReduceLROnPlateau, EarlyStopping\n",
    "from tensorflow.keras.applications.inception_resnet_v2 import preprocess_input"
   ]
  },
  {
   "cell_type": "code",
   "execution_count": 3,
   "metadata": {
    "colab": {},
    "colab_type": "code",
    "id": "vt5CImTQH3U0"
   },
   "outputs": [],
   "source": [
    "input_shape = (128, 128, 3)\n",
    "num_classes = 2\n",
    "\n",
    "image_resize = 128\n",
    "\n",
    "batch_size_training = 100\n",
    "batch_size_validation = 100"
   ]
  },
  {
   "cell_type": "code",
   "execution_count": null,
   "metadata": {},
   "outputs": [],
   "source": [
    "googleNet_model = InceptionResNetV2(include_top=False, weights='imagenet', input_shape=input_shape)\n",
    "googleNet_model.trainable = True\n",
    "model = Sequential()\n",
    "model.add(googleNet_model)\n",
    "model.add(GlobalAveragePooling2D())\n",
    "model.add(Dense(units=2, activation='softmax'))\n",
    "model.compile(loss='binary_crossentropy',\n",
    "              optimizer=optimizers.Adam(lr=1e-5, beta_1=0.9, beta_2=0.999, epsilon=None, decay=0.0, amsgrad=False),\n",
    "              metrics=['accuracy'])\n",
    "model.summary()"
   ]
  },
  {
   "cell_type": "code",
   "execution_count": 4,
   "metadata": {
    "colab": {},
    "colab_type": "code",
    "id": "MdZm92SR_XCM"
   },
   "outputs": [],
   "source": [
    "data_generator = ImageDataGenerator(\n",
    "    preprocessing_function=preprocess_input,\n",
    "    validation_split=0.2\n",
    ")"
   ]
  },
  {
   "cell_type": "code",
   "execution_count": 5,
   "metadata": {
    "colab": {
     "base_uri": "https://localhost:8080/",
     "height": 401
    },
    "colab_type": "code",
    "id": "sAePqUuyg7Ec",
    "outputId": "47a14586-618e-4b78-db22-44c62f97f2f4"
   },
   "outputs": [
    {
     "name": "stdout",
     "output_type": "stream",
     "text": [
      "Found 135077 images belonging to 2 classes.\n",
      "Found 33768 images belonging to 2 classes.\n"
     ]
    }
   ],
   "source": [
    "train_generator = data_generator.flow_from_directory(\n",
    "    'Images1',\n",
    "    target_size=(image_resize, image_resize),\n",
    "    batch_size=batch_size_training,\n",
    "    class_mode='categorical',\n",
    "    subset='training')\n",
    "\n",
    "val_generator = data_generator.flow_from_directory(\n",
    "    'Images1',\n",
    "    target_size=(image_resize, image_resize),\n",
    "    batch_size=batch_size_training,\n",
    "    class_mode='categorical',\n",
    "    subset='validation'\n",
    ")\n",
    "\n"
   ]
  },
  {
   "cell_type": "code",
   "execution_count": 6,
   "metadata": {
    "colab": {
     "base_uri": "https://localhost:8080/",
     "height": 260
    },
    "colab_type": "code",
    "id": "AXbAMT2og7Ee",
    "outputId": "03d20400-de28-4159-b77b-30fdf5861997"
   },
   "outputs": [
    {
     "name": "stdout",
     "output_type": "stream",
     "text": [
      "_________________________________________________________________\n",
      "Layer (type)                 Output Shape              Param #   \n",
      "=================================================================\n",
      "inception_resnet_v2 (Model)  (None, 2, 2, 1536)        54336736  \n",
      "_________________________________________________________________\n",
      "global_average_pooling2d (Gl (None, 1536)              0         \n",
      "_________________________________________________________________\n",
      "dense (Dense)                (None, 2)                 3074      \n",
      "=================================================================\n",
      "Total params: 54,339,810\n",
      "Trainable params: 54,279,266\n",
      "Non-trainable params: 60,544\n",
      "_________________________________________________________________\n"
     ]
    }
   ],
   "source": [
    "googleNet_model = InceptionResNetV2(include_top=False, weights='imagenet',input_shape=input_shape)\n",
    "googleNet_model.trainable = True\n",
    "model = Sequential()\n",
    "model.add(googleNet_model)\n",
    "model.add(GlobalAveragePooling2D())\n",
    "model.add(Dense(units=2, activation='softmax'))\n",
    "model.compile(loss='binary_crossentropy',\n",
    "              optimizer=optimizers.Adam(lr=1e-5, beta_1=0.9, beta_2=0.999, epsilon=None, decay=0.0, amsgrad=False),\n",
    "              metrics=['accuracy'])\n",
    "model.summary()"
   ]
  },
  {
   "cell_type": "code",
   "execution_count": 7,
   "metadata": {
    "colab": {},
    "colab_type": "code",
    "id": "hX5JbqWyKCAA"
   },
   "outputs": [],
   "source": [
    "early_stopping = EarlyStopping(monitor='val_loss',\n",
    "                min_delta=0,\n",
    "                patience=2,\n",
    "                verbose=0, mode='auto')"
   ]
  },
  {
   "cell_type": "code",
   "execution_count": 8,
   "metadata": {
    "colab": {},
    "colab_type": "code",
    "id": "wf69-ss3Kg3A"
   },
   "outputs": [],
   "source": [
    "steps_per_epoch_training = len(train_generator)\n",
    "steps_per_epoch_validation = len(val_generator)\n",
    "num_epochs = 20"
   ]
  },
  {
   "cell_type": "code",
   "execution_count": 13,
   "metadata": {
    "colab": {},
    "colab_type": "code",
    "id": "b7_asHkRfve2"
   },
   "outputs": [],
   "source": [
    "from tensorflow.keras.callbacks import *\n",
    "filepath = \"mycnn/epochs:{epoch:03d}-val_acc:{val_acc:.3f}.hdf5\"\n",
    "checkpoint = ModelCheckpoint(filepath, monitor='val_acc', verbose=1, save_best_only=True, mode='max')\n",
    "callbacks_list = [checkpoint]"
   ]
  },
  {
   "cell_type": "code",
   "execution_count": 14,
   "metadata": {
    "colab": {
     "base_uri": "https://localhost:8080/",
     "height": 418
    },
    "colab_type": "code",
    "id": "9-4EhywnK4Gq",
    "outputId": "4b2278e7-fc21-4824-813f-0d733143489b"
   },
   "outputs": [
    {
     "name": "stdout",
     "output_type": "stream",
     "text": [
      "Epoch 1/20\n",
      "1350/1351 [============================>.] - ETA: 0s - loss: 0.1753 - acc: 0.9230\n",
      "Epoch 00001: val_acc improved from -inf to 0.87385, saving model to mycnn/epochs:001-val_acc:0.874.hdf5\n",
      "1351/1351 [==============================] - 678s 502ms/step - loss: 0.1753 - acc: 0.9230 - val_loss: 0.3046 - val_acc: 0.8738\n",
      "Epoch 2/20\n",
      "1350/1351 [============================>.] - ETA: 0s - loss: 0.0995 - acc: 0.9570\n",
      "Epoch 00002: val_acc improved from 0.87385 to 0.87695, saving model to mycnn/epochs:002-val_acc:0.877.hdf5\n",
      "1351/1351 [==============================] - 672s 497ms/step - loss: 0.0995 - acc: 0.9570 - val_loss: 0.3518 - val_acc: 0.8770\n",
      "Epoch 3/20\n",
      "1350/1351 [============================>.] - ETA: 0s - loss: 0.0613 - acc: 0.9739\n",
      "Epoch 00003: val_acc improved from 0.87695 to 0.87870, saving model to mycnn/epochs:003-val_acc:0.879.hdf5\n",
      "1351/1351 [==============================] - 674s 499ms/step - loss: 0.0613 - acc: 0.9739 - val_loss: 0.4083 - val_acc: 0.8787\n",
      "Epoch 4/20\n",
      "1350/1351 [============================>.] - ETA: 0s - loss: 0.0448 - acc: 0.9806\n",
      "Epoch 00004: val_acc improved from 0.87870 to 0.88110, saving model to mycnn/epochs:004-val_acc:0.881.hdf5\n",
      "1351/1351 [==============================] - 674s 499ms/step - loss: 0.0448 - acc: 0.9806 - val_loss: 0.4462 - val_acc: 0.8811\n",
      "Epoch 5/20\n",
      "1350/1351 [============================>.] - ETA: 0s - loss: 0.0348 - acc: 0.9851\n",
      "Epoch 00005: val_acc did not improve from 0.88110\n",
      "1351/1351 [==============================] - 671s 497ms/step - loss: 0.0348 - acc: 0.9851 - val_loss: 0.5029 - val_acc: 0.8806\n",
      "Epoch 6/20\n",
      "1350/1351 [============================>.] - ETA: 0s - loss: 0.0309 - acc: 0.9869\n",
      "Epoch 00006: val_acc improved from 0.88110 to 0.88261, saving model to mycnn/epochs:006-val_acc:0.883.hdf5\n",
      "1351/1351 [==============================] - 674s 499ms/step - loss: 0.0309 - acc: 0.9869 - val_loss: 0.5024 - val_acc: 0.8826\n",
      "Epoch 7/20\n",
      "1350/1351 [============================>.] - ETA: 0s - loss: 0.0257 - acc: 0.9888\n",
      "Epoch 00007: val_acc improved from 0.88261 to 0.88418, saving model to mycnn/epochs:007-val_acc:0.884.hdf5\n",
      "1351/1351 [==============================] - 675s 499ms/step - loss: 0.0257 - acc: 0.9888 - val_loss: 0.5408 - val_acc: 0.8842\n",
      "Epoch 8/20\n",
      "1350/1351 [============================>.] - ETA: 0s - loss: 0.0235 - acc: 0.9899\n",
      "Epoch 00008: val_acc improved from 0.88418 to 0.88430, saving model to mycnn/epochs:008-val_acc:0.884.hdf5\n",
      "1351/1351 [==============================] - 674s 499ms/step - loss: 0.0235 - acc: 0.9899 - val_loss: 0.5511 - val_acc: 0.8843\n",
      "Epoch 9/20\n",
      "1350/1351 [============================>.] - ETA: 0s - loss: 0.0214 - acc: 0.9910\n",
      "Epoch 00009: val_acc improved from 0.88430 to 0.88661, saving model to mycnn/epochs:009-val_acc:0.887.hdf5\n",
      "1351/1351 [==============================] - 673s 498ms/step - loss: 0.0214 - acc: 0.9910 - val_loss: 0.5576 - val_acc: 0.8866\n",
      "Epoch 10/20\n",
      "1350/1351 [============================>.] - ETA: 0s - loss: 0.0208 - acc: 0.9914\n",
      "Epoch 00010: val_acc did not improve from 0.88661\n",
      "1351/1351 [==============================] - 671s 496ms/step - loss: 0.0208 - acc: 0.9914 - val_loss: 0.5860 - val_acc: 0.8865\n",
      "Epoch 11/20\n",
      "1350/1351 [============================>.] - ETA: 0s - loss: 0.0181 - acc: 0.9925\n",
      "Epoch 00011: val_acc improved from 0.88661 to 0.88690, saving model to mycnn/epochs:011-val_acc:0.887.hdf5\n",
      "1351/1351 [==============================] - 674s 499ms/step - loss: 0.0181 - acc: 0.9925 - val_loss: 0.5844 - val_acc: 0.8869\n",
      "Epoch 12/20\n",
      "1350/1351 [============================>.] - ETA: 0s - loss: 0.0172 - acc: 0.9927\n",
      "Epoch 00012: val_acc improved from 0.88690 to 0.89087, saving model to mycnn/epochs:012-val_acc:0.891.hdf5\n",
      "1351/1351 [==============================] - 674s 499ms/step - loss: 0.0172 - acc: 0.9927 - val_loss: 0.5837 - val_acc: 0.8909\n",
      "Epoch 13/20\n",
      "1350/1351 [============================>.] - ETA: 0s - loss: 0.0158 - acc: 0.9934\n",
      "Epoch 00013: val_acc did not improve from 0.89087\n",
      "1351/1351 [==============================] - 672s 497ms/step - loss: 0.0158 - acc: 0.9934 - val_loss: 0.6027 - val_acc: 0.8898\n",
      "Epoch 14/20\n",
      "1350/1351 [============================>.] - ETA: 0s - loss: 0.0147 - acc: 0.9937\n",
      "Epoch 00014: val_acc improved from 0.89087 to 0.89209, saving model to mycnn/epochs:014-val_acc:0.892.hdf5\n",
      "1351/1351 [==============================] - 674s 499ms/step - loss: 0.0147 - acc: 0.9937 - val_loss: 0.6034 - val_acc: 0.8921\n",
      "Epoch 15/20\n",
      "1350/1351 [============================>.] - ETA: 0s - loss: 0.0142 - acc: 0.9940\n",
      "Epoch 00015: val_acc improved from 0.89209 to 0.89221, saving model to mycnn/epochs:015-val_acc:0.892.hdf5\n",
      "1351/1351 [==============================] - 673s 498ms/step - loss: 0.0142 - acc: 0.9940 - val_loss: 0.5849 - val_acc: 0.8922\n",
      "Epoch 16/20\n",
      "1350/1351 [============================>.] - ETA: 0s - loss: 0.0137 - acc: 0.9943\n",
      "Epoch 00016: val_acc did not improve from 0.89221\n",
      "1351/1351 [==============================] - 671s 497ms/step - loss: 0.0137 - acc: 0.9943 - val_loss: 0.5975 - val_acc: 0.8900\n",
      "Epoch 17/20\n",
      "1350/1351 [============================>.] - ETA: 0s - loss: 0.0138 - acc: 0.9947\n",
      "Epoch 00017: val_acc did not improve from 0.89221\n",
      "1351/1351 [==============================] - 673s 498ms/step - loss: 0.0138 - acc: 0.9947 - val_loss: 0.5962 - val_acc: 0.8916\n",
      "Epoch 18/20\n",
      "1350/1351 [============================>.] - ETA: 0s - loss: 0.0120 - acc: 0.9950\n",
      "Epoch 00018: val_acc improved from 0.89221 to 0.89389, saving model to mycnn/epochs:018-val_acc:0.894.hdf5\n",
      "1351/1351 [==============================] - 674s 499ms/step - loss: 0.0121 - acc: 0.9950 - val_loss: 0.6082 - val_acc: 0.8939\n",
      "Epoch 19/20\n",
      "1350/1351 [============================>.] - ETA: 0s - loss: 0.0114 - acc: 0.9953\n",
      "Epoch 00019: val_acc improved from 0.89389 to 0.89413, saving model to mycnn/epochs:019-val_acc:0.894.hdf5\n",
      "1351/1351 [==============================] - 673s 498ms/step - loss: 0.0114 - acc: 0.9953 - val_loss: 0.5906 - val_acc: 0.8941\n",
      "Epoch 20/20\n",
      "1350/1351 [============================>.] - ETA: 0s - loss: 0.0117 - acc: 0.9953\n",
      "Epoch 00020: val_acc did not improve from 0.89413\n",
      "1351/1351 [==============================] - 672s 498ms/step - loss: 0.0117 - acc: 0.9953 - val_loss: 0.6055 - val_acc: 0.8929\n"
     ]
    }
   ],
   "source": [
    "fit_history = model.fit_generator(\n",
    "    train_generator,\n",
    "    steps_per_epoch=steps_per_epoch_training,\n",
    "    epochs=num_epochs,\n",
    "    validation_data=val_generator,\n",
    "    validation_steps=steps_per_epoch_validation,\n",
    "    verbose=1,\n",
    "    callbacks=callbacks_list\n",
    ")"
   ]
  },
  {
   "cell_type": "code",
   "execution_count": 15,
   "metadata": {},
   "outputs": [],
   "source": [
    "model.save('deepfake-detection-model.h5')"
   ]
  },
  {
   "cell_type": "code",
   "execution_count": 16,
   "metadata": {},
   "outputs": [],
   "source": [
    "import matplotlib.pyplot as plt"
   ]
  },
  {
   "cell_type": "code",
   "execution_count": 20,
   "metadata": {},
   "outputs": [],
   "source": [
    "import json\n",
    "with open('myfile.json', 'w') as file:\n",
    "\n",
    "    json.dump(fit_history.history, file)"
   ]
  },
  {
   "cell_type": "code",
   "execution_count": 23,
   "metadata": {},
   "outputs": [],
   "source": [
    "from tensorflow.keras.models import load_model"
   ]
  },
  {
   "cell_type": "code",
   "execution_count": 24,
   "metadata": {},
   "outputs": [],
   "source": [
    "model2 = load_model('C:\\Users\\KaiY\\Documents\\DeepFake\\')"
   ]
  },
  {
   "cell_type": "code",
   "execution_count": null,
   "metadata": {},
   "outputs": [],
   "source": [
    "input_shape = (128, 128, 3)\n",
    "data_dir = 'dataset'\n",
    "data = [f for f in os.listdir(data_dir) if f.endswith('.png')]\n",
    "cap = cv2.VideoCapture('test_videos/jzmzdispyo.mp4')"
   ]
  },
  {
   "cell_type": "code",
   "execution_count": null,
   "metadata": {},
   "outputs": [],
   "source": []
  }
 ],
 "metadata": {
  "accelerator": "TPU",
  "colab": {
   "collapsed_sections": [],
   "machine_shape": "hm",
   "name": "690part2.ipynb",
   "provenance": []
  },
  "kernelspec": {
   "display_name": "Python 3",
   "language": "python",
   "name": "python3"
  },
  "language_info": {
   "codemirror_mode": {
    "name": "ipython",
    "version": 3
   },
   "file_extension": ".py",
   "mimetype": "text/x-python",
   "name": "python",
   "nbconvert_exporter": "python",
   "pygments_lexer": "ipython3",
   "version": "3.7.4"
  }
 },
 "nbformat": 4,
 "nbformat_minor": 2
}
